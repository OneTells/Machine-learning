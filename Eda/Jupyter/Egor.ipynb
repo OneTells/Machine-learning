{
 "cells": [
  {
   "cell_type": "raw",
   "source": [
    "https://www.kaggle.com/code/aikenkazin/ddos-attack-detection-classification/notebook\n",
    "https://www.kaggle.com/datasets/aikenkazin/ddos-sdn-dataset/code"
   ],
   "metadata": {
    "collapsed": false
   },
   "id": "5649edf6b1ee2851"
  },
  {
   "cell_type": "code",
   "execution_count": 7,
   "outputs": [],
   "source": [
    "import pandas as pd"
   ],
   "metadata": {
    "collapsed": false,
    "ExecuteTime": {
     "end_time": "2023-11-16T17:01:46.509404600Z",
     "start_time": "2023-11-16T17:01:43.966480300Z"
    }
   },
   "id": "e3c51ceca68369c6"
  },
  {
   "cell_type": "code",
   "execution_count": 19,
   "outputs": [],
   "source": [
    "data = pd.read_csv(r'..\\Data\\dataset_sdn.csv')"
   ],
   "metadata": {
    "collapsed": false,
    "ExecuteTime": {
     "end_time": "2023-11-16T17:49:33.515532700Z",
     "start_time": "2023-11-16T17:49:30.091946800Z"
    }
   },
   "id": "ce66ee4a94a94266"
  },
  {
   "cell_type": "code",
   "execution_count": 20,
   "outputs": [
    {
     "data": {
      "text/plain": "      dt  switch       src       dst  pktcount  bytecount  dur   dur_nsec  \\\n0  11425       1  10.0.0.1  10.0.0.8     45304   48294064  100  716000000   \n1  11605       1  10.0.0.1  10.0.0.8    126395  134737070  280  734000000   \n2  11425       1  10.0.0.2  10.0.0.8     90333   96294978  200  744000000   \n3  11425       1  10.0.0.2  10.0.0.8     90333   96294978  200  744000000   \n4  11425       1  10.0.0.2  10.0.0.8     90333   96294978  200  744000000   \n\n        tot_dur  flows  ...  pktrate  Pairflow  Protocol  port_no   tx_bytes  \\\n0  1.010000e+11      3  ...      451         0       UDP        3  143928631   \n1  2.810000e+11      2  ...      451         0       UDP        4       3842   \n2  2.010000e+11      3  ...      451         0       UDP        1       3795   \n3  2.010000e+11      3  ...      451         0       UDP        2       3688   \n4  2.010000e+11      3  ...      451         0       UDP        3       3413   \n\n  rx_bytes  tx_kbps  rx_kbps  tot_kbps  label  \n0     3917        0      0.0       0.0      0  \n1     3520        0      0.0       0.0      0  \n2     1242        0      0.0       0.0      0  \n3     1492        0      0.0       0.0      0  \n4     3665        0      0.0       0.0      0  \n\n[5 rows x 23 columns]",
      "text/html": "<div>\n<style scoped>\n    .dataframe tbody tr th:only-of-type {\n        vertical-align: middle;\n    }\n\n    .dataframe tbody tr th {\n        vertical-align: top;\n    }\n\n    .dataframe thead th {\n        text-align: right;\n    }\n</style>\n<table border=\"1\" class=\"dataframe\">\n  <thead>\n    <tr style=\"text-align: right;\">\n      <th></th>\n      <th>dt</th>\n      <th>switch</th>\n      <th>src</th>\n      <th>dst</th>\n      <th>pktcount</th>\n      <th>bytecount</th>\n      <th>dur</th>\n      <th>dur_nsec</th>\n      <th>tot_dur</th>\n      <th>flows</th>\n      <th>...</th>\n      <th>pktrate</th>\n      <th>Pairflow</th>\n      <th>Protocol</th>\n      <th>port_no</th>\n      <th>tx_bytes</th>\n      <th>rx_bytes</th>\n      <th>tx_kbps</th>\n      <th>rx_kbps</th>\n      <th>tot_kbps</th>\n      <th>label</th>\n    </tr>\n  </thead>\n  <tbody>\n    <tr>\n      <th>0</th>\n      <td>11425</td>\n      <td>1</td>\n      <td>10.0.0.1</td>\n      <td>10.0.0.8</td>\n      <td>45304</td>\n      <td>48294064</td>\n      <td>100</td>\n      <td>716000000</td>\n      <td>1.010000e+11</td>\n      <td>3</td>\n      <td>...</td>\n      <td>451</td>\n      <td>0</td>\n      <td>UDP</td>\n      <td>3</td>\n      <td>143928631</td>\n      <td>3917</td>\n      <td>0</td>\n      <td>0.0</td>\n      <td>0.0</td>\n      <td>0</td>\n    </tr>\n    <tr>\n      <th>1</th>\n      <td>11605</td>\n      <td>1</td>\n      <td>10.0.0.1</td>\n      <td>10.0.0.8</td>\n      <td>126395</td>\n      <td>134737070</td>\n      <td>280</td>\n      <td>734000000</td>\n      <td>2.810000e+11</td>\n      <td>2</td>\n      <td>...</td>\n      <td>451</td>\n      <td>0</td>\n      <td>UDP</td>\n      <td>4</td>\n      <td>3842</td>\n      <td>3520</td>\n      <td>0</td>\n      <td>0.0</td>\n      <td>0.0</td>\n      <td>0</td>\n    </tr>\n    <tr>\n      <th>2</th>\n      <td>11425</td>\n      <td>1</td>\n      <td>10.0.0.2</td>\n      <td>10.0.0.8</td>\n      <td>90333</td>\n      <td>96294978</td>\n      <td>200</td>\n      <td>744000000</td>\n      <td>2.010000e+11</td>\n      <td>3</td>\n      <td>...</td>\n      <td>451</td>\n      <td>0</td>\n      <td>UDP</td>\n      <td>1</td>\n      <td>3795</td>\n      <td>1242</td>\n      <td>0</td>\n      <td>0.0</td>\n      <td>0.0</td>\n      <td>0</td>\n    </tr>\n    <tr>\n      <th>3</th>\n      <td>11425</td>\n      <td>1</td>\n      <td>10.0.0.2</td>\n      <td>10.0.0.8</td>\n      <td>90333</td>\n      <td>96294978</td>\n      <td>200</td>\n      <td>744000000</td>\n      <td>2.010000e+11</td>\n      <td>3</td>\n      <td>...</td>\n      <td>451</td>\n      <td>0</td>\n      <td>UDP</td>\n      <td>2</td>\n      <td>3688</td>\n      <td>1492</td>\n      <td>0</td>\n      <td>0.0</td>\n      <td>0.0</td>\n      <td>0</td>\n    </tr>\n    <tr>\n      <th>4</th>\n      <td>11425</td>\n      <td>1</td>\n      <td>10.0.0.2</td>\n      <td>10.0.0.8</td>\n      <td>90333</td>\n      <td>96294978</td>\n      <td>200</td>\n      <td>744000000</td>\n      <td>2.010000e+11</td>\n      <td>3</td>\n      <td>...</td>\n      <td>451</td>\n      <td>0</td>\n      <td>UDP</td>\n      <td>3</td>\n      <td>3413</td>\n      <td>3665</td>\n      <td>0</td>\n      <td>0.0</td>\n      <td>0.0</td>\n      <td>0</td>\n    </tr>\n  </tbody>\n</table>\n<p>5 rows × 23 columns</p>\n</div>"
     },
     "execution_count": 20,
     "metadata": {},
     "output_type": "execute_result"
    }
   ],
   "source": [
    "data.head()"
   ],
   "metadata": {
    "collapsed": false,
    "ExecuteTime": {
     "end_time": "2023-11-16T17:49:37.250037Z",
     "start_time": "2023-11-16T17:49:37.141869400Z"
    }
   },
   "id": "37e79e4da45b1262"
  },
  {
   "cell_type": "raw",
   "source": [
    "dt\n",
    "switch\n",
    "src\n",
    "dst\n",
    "pktcount\n",
    "bytecount\n",
    "dur\n",
    "dur_nsec\n",
    "tot_dur\n",
    "flows\n",
    "packetins\n",
    "pktperflow\n",
    "byteperflow\n",
    "pktrate\n",
    "Pairflow\n",
    "Protocol\n",
    "port_no\n",
    "tx_bytes\n",
    "rx_bytes\n",
    "tx_kbps\n",
    "rx_kbps\n",
    "tot_kbps\n",
    "label: 1 вредоносный, 0 доброкачественный трафик"
   ],
   "metadata": {
    "collapsed": false
   },
   "id": "3a120de943da944f"
  },
  {
   "cell_type": "code",
   "execution_count": 21,
   "outputs": [
    {
     "data": {
      "text/plain": "(104345, 23)"
     },
     "execution_count": 21,
     "metadata": {},
     "output_type": "execute_result"
    }
   ],
   "source": [
    "data.shape"
   ],
   "metadata": {
    "collapsed": false,
    "ExecuteTime": {
     "end_time": "2023-11-16T17:49:42.007599700Z",
     "start_time": "2023-11-16T17:49:41.972722700Z"
    }
   },
   "id": "8db0f2506a97152"
  },
  {
   "cell_type": "code",
   "execution_count": 14,
   "outputs": [],
   "source": [
    "data = data[['dt','switch','src','label']]"
   ],
   "metadata": {
    "collapsed": false,
    "ExecuteTime": {
     "end_time": "2023-11-16T17:49:03.719344600Z",
     "start_time": "2023-11-16T17:49:03.649061900Z"
    }
   },
   "id": "858c08b548708179"
  },
  {
   "cell_type": "code",
   "execution_count": 10,
   "outputs": [],
   "source": [
    "data.head()"
   ],
   "metadata": {
    "collapsed": false,
    "ExecuteTime": {
     "end_time": "2023-11-16T17:01:46.604845100Z",
     "start_time": "2023-11-16T17:01:44.416938600Z"
    }
   },
   "id": "edc2dd51cf038607"
  }
 ],
 "metadata": {
  "kernelspec": {
   "display_name": "Python 3",
   "language": "python",
   "name": "python3"
  },
  "language_info": {
   "codemirror_mode": {
    "name": "ipython",
    "version": 2
   },
   "file_extension": ".py",
   "mimetype": "text/x-python",
   "name": "python",
   "nbconvert_exporter": "python",
   "pygments_lexer": "ipython2",
   "version": "2.7.6"
  }
 },
 "nbformat": 4,
 "nbformat_minor": 5
}
